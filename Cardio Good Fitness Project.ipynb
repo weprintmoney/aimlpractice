{
 "cells": [
  {
   "cell_type": "markdown",
   "metadata": {
    "id": "3AdaQhzVqqnS"
   },
   "source": [
    "<center><p float=\"center\">\n",
    "  <img src=\"https://upload.wikimedia.org/wikipedia/commons/e/e9/4_RGB_McCombs_School_Brand_Branded.png\" width=\"300\" height=\"100\"/>\n",
    "  <img src=\"https://mma.prnewswire.com/media/1458111/Great_Learning_Logo.jpg?p=facebook\" width=\"200\" height=\"100\"/>\n",
    "</p></center>\n",
    "\n",
    "<h1><center><font size=8>Fundamentals of AIML</center></font></h1>\n",
    "<h1><center>Cardio Good Fitness Project</center></h1>\n",
    "<h3><center>Charlcye Mitchell, September 2022</center></h3>"
   ]
  },
  {
   "cell_type": "markdown",
   "metadata": {
    "id": "RtsWDAdzr3pQ"
   },
   "source": [
    "# Objective\n",
    "- Explore and visualize the dataset\n",
    "- Build a linear regression model to predict the prices of used cars\n",
    "- Generate a set of insights and recommendations that will help the business"
   ]
  },
  {
   "cell_type": "markdown",
   "metadata": {
    "id": "hb28hvwwFYZw"
   },
   "source": [
    "\n",
    "# Data Dictionary\n",
    "The data is about customers of the treadmill product(s) of a retail store called Cardio Good Fitness. It contains the following variables:\n",
    "\n",
    "* **Product** - The model no. of the treadmill\n",
    "* **Age** -  Age of the customer in no of years\n",
    "* **Gender** - Gender of the customer\n",
    "* **Education** - Education of the customer in no. of years\n",
    "* **Marital Status** - Marital status of the customer\n",
    "* **Usage** - Avg. # times the customer wants to use the treadmill every week\n",
    "* **Fitness** - Self rated fitness score of the customer (5 - very fit, 1 - very unfit)\n",
    "* **Income** - Income of the customer\n",
    "* **Miles** - Miles that a customer expects to run"
   ]
  },
  {
   "cell_type": "markdown",
   "metadata": {
    "id": "KOuJukRqvCcT"
   },
   "source": [
    "## **Importing the necessary packages** "
   ]
  },
  {
   "cell_type": "code",
   "execution_count": null,
   "metadata": {
    "id": "RcG0CFYshaTq"
   },
   "outputs": [],
   "source": [
    "# Libraries to help with reading and manipulating data\n",
    "import numpy as np\n",
    "import pandas as pd\n",
    "\n",
    "# Libraries to help with data visualization\n",
    "import matplotlib.pyplot as plt\n",
    "import seaborn as sns\n",
    "\n",
    "# Command to tell Python to actually display the graphs\n",
    "%matplotlib inline\n",
    "\n",
    "# To supress numerical display in scientific notations to 2 decimal places\n",
    "pd.set_option('display.float_format', lambda x: '%.2f' % x) \n",
    "\n"
   ]
  },
  {
   "cell_type": "markdown",
   "metadata": {
    "id": "NNi9HZrkvOef"
   },
   "source": [
    "## **Reading the datasets**"
   ]
  },
  {
   "cell_type": "code",
   "execution_count": null,
   "metadata": {
    "colab": {
     "base_uri": "https://localhost:8080/"
    },
    "executionInfo": {
     "elapsed": 19184,
     "status": "ok",
     "timestamp": 1664017801248,
     "user": {
      "displayName": "Charlcye Mitchell",
      "userId": "15032698974823626783"
     },
     "user_tz": 300
    },
    "id": "M6euaM75hmlV",
    "outputId": "c86c2a02-a6e0-41ea-cbd7-7a49ac584c45"
   },
   "outputs": [
    {
     "name": "stdout",
     "output_type": "stream",
     "text": [
      "Mounted at /content/drive\n"
     ]
    }
   ],
   "source": [
    "# mount drive\n",
    "from google.colab import drive\n",
    "drive.mount('/content/drive')"
   ]
  },
  {
   "cell_type": "code",
   "execution_count": null,
   "metadata": {
    "id": "u1NcjmEphuJm"
   },
   "outputs": [],
   "source": [
    "# Read in the dataset\n",
    "df = pd.read_csv(\"/content/drive/MyDrive/Colab Notebooks/CardioGoodFitness.csv\")"
   ]
  },
  {
   "cell_type": "markdown",
   "metadata": {
    "id": "TB5hHxK-vWw8"
   },
   "source": [
    "## **Review the data of the customers of the Cardio Good Fitness retail store**"
   ]
  },
  {
   "cell_type": "markdown",
   "metadata": {
    "id": "6F2aXpIpwkS4"
   },
   "source": [
    "Let's start by performing basic steps to understand the data such as:\n",
    "- observing the first few rows of the dataset\n",
    "- getting information about the number of rows and columns \n",
    "- finding out the data types of the columns \n",
    "- checking the statistical summary "
   ]
  },
  {
   "cell_type": "markdown",
   "metadata": {
    "id": "mGqvnXCTwp24"
   },
   "source": [
    "### Displaying the first few rows of the dataset"
   ]
  },
  {
   "cell_type": "code",
   "execution_count": null,
   "metadata": {
    "colab": {
     "base_uri": "https://localhost:8080/",
     "height": 206
    },
    "executionInfo": {
     "elapsed": 233,
     "status": "ok",
     "timestamp": 1664017866763,
     "user": {
      "displayName": "Charlcye Mitchell",
      "userId": "15032698974823626783"
     },
     "user_tz": 300
    },
    "id": "8S8HSOmbiL2b",
    "outputId": "1cabd93b-b5b2-4b43-e8f0-3a18d0dd4f59"
   },
   "outputs": [
    {
     "data": {
      "text/html": [
       "\n",
       "  <div id=\"df-b1d60e4c-34a9-47ba-af8d-8c8aea7aeba4\">\n",
       "    <div class=\"colab-df-container\">\n",
       "      <div>\n",
       "<style scoped>\n",
       "    .dataframe tbody tr th:only-of-type {\n",
       "        vertical-align: middle;\n",
       "    }\n",
       "\n",
       "    .dataframe tbody tr th {\n",
       "        vertical-align: top;\n",
       "    }\n",
       "\n",
       "    .dataframe thead th {\n",
       "        text-align: right;\n",
       "    }\n",
       "</style>\n",
       "<table border=\"1\" class=\"dataframe\">\n",
       "  <thead>\n",
       "    <tr style=\"text-align: right;\">\n",
       "      <th></th>\n",
       "      <th>Product</th>\n",
       "      <th>Age</th>\n",
       "      <th>Gender</th>\n",
       "      <th>Education</th>\n",
       "      <th>MaritalStatus</th>\n",
       "      <th>Usage</th>\n",
       "      <th>Fitness</th>\n",
       "      <th>Income</th>\n",
       "      <th>Miles</th>\n",
       "    </tr>\n",
       "  </thead>\n",
       "  <tbody>\n",
       "    <tr>\n",
       "      <th>0</th>\n",
       "      <td>TM195</td>\n",
       "      <td>18</td>\n",
       "      <td>Male</td>\n",
       "      <td>14</td>\n",
       "      <td>Single</td>\n",
       "      <td>3</td>\n",
       "      <td>4</td>\n",
       "      <td>29562</td>\n",
       "      <td>112</td>\n",
       "    </tr>\n",
       "    <tr>\n",
       "      <th>1</th>\n",
       "      <td>TM195</td>\n",
       "      <td>19</td>\n",
       "      <td>Male</td>\n",
       "      <td>15</td>\n",
       "      <td>Single</td>\n",
       "      <td>2</td>\n",
       "      <td>3</td>\n",
       "      <td>31836</td>\n",
       "      <td>75</td>\n",
       "    </tr>\n",
       "    <tr>\n",
       "      <th>2</th>\n",
       "      <td>TM195</td>\n",
       "      <td>19</td>\n",
       "      <td>Female</td>\n",
       "      <td>14</td>\n",
       "      <td>Partnered</td>\n",
       "      <td>4</td>\n",
       "      <td>3</td>\n",
       "      <td>30699</td>\n",
       "      <td>66</td>\n",
       "    </tr>\n",
       "    <tr>\n",
       "      <th>3</th>\n",
       "      <td>TM195</td>\n",
       "      <td>19</td>\n",
       "      <td>Male</td>\n",
       "      <td>12</td>\n",
       "      <td>Single</td>\n",
       "      <td>3</td>\n",
       "      <td>3</td>\n",
       "      <td>32973</td>\n",
       "      <td>85</td>\n",
       "    </tr>\n",
       "    <tr>\n",
       "      <th>4</th>\n",
       "      <td>TM195</td>\n",
       "      <td>20</td>\n",
       "      <td>Male</td>\n",
       "      <td>13</td>\n",
       "      <td>Partnered</td>\n",
       "      <td>4</td>\n",
       "      <td>2</td>\n",
       "      <td>35247</td>\n",
       "      <td>47</td>\n",
       "    </tr>\n",
       "  </tbody>\n",
       "</table>\n",
       "</div>\n",
       "      <button class=\"colab-df-convert\" onclick=\"convertToInteractive('df-b1d60e4c-34a9-47ba-af8d-8c8aea7aeba4')\"\n",
       "              title=\"Convert this dataframe to an interactive table.\"\n",
       "              style=\"display:none;\">\n",
       "        \n",
       "  <svg xmlns=\"http://www.w3.org/2000/svg\" height=\"24px\"viewBox=\"0 0 24 24\"\n",
       "       width=\"24px\">\n",
       "    <path d=\"M0 0h24v24H0V0z\" fill=\"none\"/>\n",
       "    <path d=\"M18.56 5.44l.94 2.06.94-2.06 2.06-.94-2.06-.94-.94-2.06-.94 2.06-2.06.94zm-11 1L8.5 8.5l.94-2.06 2.06-.94-2.06-.94L8.5 2.5l-.94 2.06-2.06.94zm10 10l.94 2.06.94-2.06 2.06-.94-2.06-.94-.94-2.06-.94 2.06-2.06.94z\"/><path d=\"M17.41 7.96l-1.37-1.37c-.4-.4-.92-.59-1.43-.59-.52 0-1.04.2-1.43.59L10.3 9.45l-7.72 7.72c-.78.78-.78 2.05 0 2.83L4 21.41c.39.39.9.59 1.41.59.51 0 1.02-.2 1.41-.59l7.78-7.78 2.81-2.81c.8-.78.8-2.07 0-2.86zM5.41 20L4 18.59l7.72-7.72 1.47 1.35L5.41 20z\"/>\n",
       "  </svg>\n",
       "      </button>\n",
       "      \n",
       "  <style>\n",
       "    .colab-df-container {\n",
       "      display:flex;\n",
       "      flex-wrap:wrap;\n",
       "      gap: 12px;\n",
       "    }\n",
       "\n",
       "    .colab-df-convert {\n",
       "      background-color: #E8F0FE;\n",
       "      border: none;\n",
       "      border-radius: 50%;\n",
       "      cursor: pointer;\n",
       "      display: none;\n",
       "      fill: #1967D2;\n",
       "      height: 32px;\n",
       "      padding: 0 0 0 0;\n",
       "      width: 32px;\n",
       "    }\n",
       "\n",
       "    .colab-df-convert:hover {\n",
       "      background-color: #E2EBFA;\n",
       "      box-shadow: 0px 1px 2px rgba(60, 64, 67, 0.3), 0px 1px 3px 1px rgba(60, 64, 67, 0.15);\n",
       "      fill: #174EA6;\n",
       "    }\n",
       "\n",
       "    [theme=dark] .colab-df-convert {\n",
       "      background-color: #3B4455;\n",
       "      fill: #D2E3FC;\n",
       "    }\n",
       "\n",
       "    [theme=dark] .colab-df-convert:hover {\n",
       "      background-color: #434B5C;\n",
       "      box-shadow: 0px 1px 3px 1px rgba(0, 0, 0, 0.15);\n",
       "      filter: drop-shadow(0px 1px 2px rgba(0, 0, 0, 0.3));\n",
       "      fill: #FFFFFF;\n",
       "    }\n",
       "  </style>\n",
       "\n",
       "      <script>\n",
       "        const buttonEl =\n",
       "          document.querySelector('#df-b1d60e4c-34a9-47ba-af8d-8c8aea7aeba4 button.colab-df-convert');\n",
       "        buttonEl.style.display =\n",
       "          google.colab.kernel.accessAllowed ? 'block' : 'none';\n",
       "\n",
       "        async function convertToInteractive(key) {\n",
       "          const element = document.querySelector('#df-b1d60e4c-34a9-47ba-af8d-8c8aea7aeba4');\n",
       "          const dataTable =\n",
       "            await google.colab.kernel.invokeFunction('convertToInteractive',\n",
       "                                                     [key], {});\n",
       "          if (!dataTable) return;\n",
       "\n",
       "          const docLinkHtml = 'Like what you see? Visit the ' +\n",
       "            '<a target=\"_blank\" href=https://colab.research.google.com/notebooks/data_table.ipynb>data table notebook</a>'\n",
       "            + ' to learn more about interactive tables.';\n",
       "          element.innerHTML = '';\n",
       "          dataTable['output_type'] = 'display_data';\n",
       "          await google.colab.output.renderOutput(dataTable, element);\n",
       "          const docLink = document.createElement('div');\n",
       "          docLink.innerHTML = docLinkHtml;\n",
       "          element.appendChild(docLink);\n",
       "        }\n",
       "      </script>\n",
       "    </div>\n",
       "  </div>\n",
       "  "
      ],
      "text/plain": [
       "  Product  Age  Gender  Education MaritalStatus  Usage  Fitness  Income  Miles\n",
       "0   TM195   18    Male         14        Single      3        4   29562    112\n",
       "1   TM195   19    Male         15        Single      2        3   31836     75\n",
       "2   TM195   19  Female         14     Partnered      4        3   30699     66\n",
       "3   TM195   19    Male         12        Single      3        3   32973     85\n",
       "4   TM195   20    Male         13     Partnered      4        2   35247     47"
      ]
     },
     "execution_count": 9,
     "metadata": {},
     "output_type": "execute_result"
    }
   ],
   "source": [
    "# Look at the first 5 rows of data\n",
    "df.head()"
   ]
  },
  {
   "cell_type": "markdown",
   "metadata": {
    "id": "Mj2C7-pswvuB"
   },
   "source": [
    "The dataset has been loaded properly\n",
    "- *Dataset consists of several columns displaying the various customer attributes*\n",
    "- *2/3 of the columns are numerical in nature*"
   ]
  },
  {
   "cell_type": "markdown",
   "metadata": {
    "id": "TsxRuET4xEXU"
   },
   "source": [
    "### Understanding the shape of the user dataset"
   ]
  },
  {
   "cell_type": "code",
   "execution_count": null,
   "metadata": {
    "colab": {
     "base_uri": "https://localhost:8080/"
    },
    "executionInfo": {
     "elapsed": 125,
     "status": "ok",
     "timestamp": 1664017873385,
     "user": {
      "displayName": "Charlcye Mitchell",
      "userId": "15032698974823626783"
     },
     "user_tz": 300
    },
    "id": "mhTtMyiriRP6",
    "outputId": "2c79eb3b-5247-41d6-8341-458f4752a129"
   },
   "outputs": [
    {
     "data": {
      "text/plain": [
       "(180, 9)"
      ]
     },
     "execution_count": 10,
     "metadata": {},
     "output_type": "execute_result"
    }
   ],
   "source": [
    "# How many rows and columns are there?\n",
    "df.shape"
   ]
  },
  {
   "cell_type": "markdown",
   "metadata": {
    "id": "U0hs-elvxIVS"
   },
   "source": [
    "- *The Dataset has 180 rows with 9 columns*"
   ]
  },
  {
   "cell_type": "markdown",
   "metadata": {
    "id": "gQEVy9-MxUAa"
   },
   "source": [
    "### Checking the datatype of the columns\n",
    "\n"
   ]
  },
  {
   "cell_type": "code",
   "execution_count": null,
   "metadata": {
    "colab": {
     "base_uri": "https://localhost:8080/"
    },
    "executionInfo": {
     "elapsed": 121,
     "status": "ok",
     "timestamp": 1664017877329,
     "user": {
      "displayName": "Charlcye Mitchell",
      "userId": "15032698974823626783"
     },
     "user_tz": 300
    },
    "id": "7lqid_dTiq0y",
    "outputId": "38b21ad2-a335-47bf-ede7-68f0a7c8f8cc"
   },
   "outputs": [
    {
     "name": "stdout",
     "output_type": "stream",
     "text": [
      "<class 'pandas.core.frame.DataFrame'>\n",
      "RangeIndex: 180 entries, 0 to 179\n",
      "Data columns (total 9 columns):\n",
      " #   Column         Non-Null Count  Dtype \n",
      "---  ------         --------------  ----- \n",
      " 0   Product        180 non-null    object\n",
      " 1   Age            180 non-null    int64 \n",
      " 2   Gender         180 non-null    object\n",
      " 3   Education      180 non-null    int64 \n",
      " 4   MaritalStatus  180 non-null    object\n",
      " 5   Usage          180 non-null    int64 \n",
      " 6   Fitness        180 non-null    int64 \n",
      " 7   Income         180 non-null    int64 \n",
      " 8   Miles          180 non-null    int64 \n",
      "dtypes: int64(6), object(3)\n",
      "memory usage: 12.8+ KB\n"
     ]
    }
   ],
   "source": [
    "# Check data types and non-null value counts\n",
    "df.info()"
   ]
  },
  {
   "cell_type": "markdown",
   "metadata": {
    "id": "PRlUdc8Jxald"
   },
   "source": [
    "- *There are 3 object datatype columns with 6 numerical datatypes*\n",
    "- *All the columns have 180 observations, which means none of the columns have null values*\n",
    "\n"
   ]
  },
  {
   "cell_type": "markdown",
   "metadata": {
    "id": "7cPyVS_zyqoi"
   },
   "source": [
    "### Getting the statistical summary for the user dataset\n"
   ]
  },
  {
   "cell_type": "markdown",
   "metadata": {
    "id": "-MbZBsxv3aFu"
   },
   "source": [
    "We can now have a look at the statistical summary of the dataset.<br>\n",
    "\n",
    "The **describe()** function will help us in finding out the statistical summary. **Include='all'** will show all data, not just numerical values. **.T** will transpose the data.<br>\n",
    "\n",
    "The statistical summary will give us a overview of the numerical columns of the data and display various features like the minimum, maximum, mean, standard deviation, etc. of the columns. This will help us to understand the distribution of the values present in the numerical columns.\n",
    "\n",
    "**Note**: 'nan' in numpy stands for not a number and it is used to denote the values that are undefined."
   ]
  },
  {
   "cell_type": "code",
   "execution_count": null,
   "metadata": {
    "colab": {
     "base_uri": "https://localhost:8080/",
     "height": 1000
    },
    "executionInfo": {
     "elapsed": 15228,
     "status": "ok",
     "timestamp": 1662948165152,
     "user": {
      "displayName": "Charlcye Mitchell",
      "userId": "15032698974823626783"
     },
     "user_tz": 300
    },
    "id": "7RnGYHkcba3i",
    "outputId": "594cedbf-e84b-4e83-f20c-0625f089df67"
   },
   "outputs": [
    {
     "data": {
      "image/png": "[encoded data removed]",
      "text/plain": [
       "<Figure size 1080x1080 with 42 Axes>"
      ]
     },
     "metadata": {
      "needs_background": "light"
     },
     "output_type": "display_data"
    }
   ],
   "source": [
    "sns.pairplot(df);"
   ]
  },
  {
   "cell_type": "code",
   "execution_count": null,
   "metadata": {
    "colab": {
     "base_uri": "https://localhost:8080/",
     "height": 332
    },
    "executionInfo": {
     "elapsed": 6,
     "status": "ok",
     "timestamp": 1662942357988,
     "user": {
      "displayName": "Charlcye Mitchell",
      "userId": "15032698974823626783"
     },
     "user_tz": 300
    },
    "id": "KSi3sLgDivYo",
    "outputId": "11365d79-6366-4358-8d84-7e16e0462fe9"
   },
   "outputs": [
    {
     "data": {
      "text/html": [
       "\n",
       "  <div id=\"df-87d5637b-1add-434b-b346-7cb2fafd859e\">\n",
       "    <div class=\"colab-df-container\">\n",
       "      <div>\n",
       "<style scoped>\n",
       "    .dataframe tbody tr th:only-of-type {\n",
       "        vertical-align: middle;\n",
       "    }\n",
       "\n",
       "    .dataframe tbody tr th {\n",
       "        vertical-align: top;\n",
       "    }\n",
       "\n",
       "    .dataframe thead th {\n",
       "        text-align: right;\n",
       "    }\n",
       "</style>\n",
       "<table border=\"1\" class=\"dataframe\">\n",
       "  <thead>\n",
       "    <tr style=\"text-align: right;\">\n",
       "      <th></th>\n",
       "      <th>count</th>\n",
       "      <th>unique</th>\n",
       "      <th>top</th>\n",
       "      <th>freq</th>\n",
       "      <th>mean</th>\n",
       "      <th>std</th>\n",
       "      <th>min</th>\n",
       "      <th>25%</th>\n",
       "      <th>50%</th>\n",
       "      <th>75%</th>\n",
       "      <th>max</th>\n",
       "    </tr>\n",
       "  </thead>\n",
       "  <tbody>\n",
       "    <tr>\n",
       "      <th>Product</th>\n",
       "      <td>180</td>\n",
       "      <td>3</td>\n",
       "      <td>TM195</td>\n",
       "      <td>80</td>\n",
       "      <td>NaN</td>\n",
       "      <td>NaN</td>\n",
       "      <td>NaN</td>\n",
       "      <td>NaN</td>\n",
       "      <td>NaN</td>\n",
       "      <td>NaN</td>\n",
       "      <td>NaN</td>\n",
       "    </tr>\n",
       "    <tr>\n",
       "      <th>Age</th>\n",
       "      <td>180.00</td>\n",
       "      <td>NaN</td>\n",
       "      <td>NaN</td>\n",
       "      <td>NaN</td>\n",
       "      <td>28.79</td>\n",
       "      <td>6.94</td>\n",
       "      <td>18.00</td>\n",
       "      <td>24.00</td>\n",
       "      <td>26.00</td>\n",
       "      <td>33.00</td>\n",
       "      <td>50.00</td>\n",
       "    </tr>\n",
       "    <tr>\n",
       "      <th>Gender</th>\n",
       "      <td>180</td>\n",
       "      <td>2</td>\n",
       "      <td>Male</td>\n",
       "      <td>104</td>\n",
       "      <td>NaN</td>\n",
       "      <td>NaN</td>\n",
       "      <td>NaN</td>\n",
       "      <td>NaN</td>\n",
       "      <td>NaN</td>\n",
       "      <td>NaN</td>\n",
       "      <td>NaN</td>\n",
       "    </tr>\n",
       "    <tr>\n",
       "      <th>Education</th>\n",
       "      <td>180.00</td>\n",
       "      <td>NaN</td>\n",
       "      <td>NaN</td>\n",
       "      <td>NaN</td>\n",
       "      <td>15.57</td>\n",
       "      <td>1.62</td>\n",
       "      <td>12.00</td>\n",
       "      <td>14.00</td>\n",
       "      <td>16.00</td>\n",
       "      <td>16.00</td>\n",
       "      <td>21.00</td>\n",
       "    </tr>\n",
       "    <tr>\n",
       "      <th>MaritalStatus</th>\n",
       "      <td>180</td>\n",
       "      <td>2</td>\n",
       "      <td>Partnered</td>\n",
       "      <td>107</td>\n",
       "      <td>NaN</td>\n",
       "      <td>NaN</td>\n",
       "      <td>NaN</td>\n",
       "      <td>NaN</td>\n",
       "      <td>NaN</td>\n",
       "      <td>NaN</td>\n",
       "      <td>NaN</td>\n",
       "    </tr>\n",
       "    <tr>\n",
       "      <th>Usage</th>\n",
       "      <td>180.00</td>\n",
       "      <td>NaN</td>\n",
       "      <td>NaN</td>\n",
       "      <td>NaN</td>\n",
       "      <td>3.46</td>\n",
       "      <td>1.08</td>\n",
       "      <td>2.00</td>\n",
       "      <td>3.00</td>\n",
       "      <td>3.00</td>\n",
       "      <td>4.00</td>\n",
       "      <td>7.00</td>\n",
       "    </tr>\n",
       "    <tr>\n",
       "      <th>Fitness</th>\n",
       "      <td>180.00</td>\n",
       "      <td>NaN</td>\n",
       "      <td>NaN</td>\n",
       "      <td>NaN</td>\n",
       "      <td>3.31</td>\n",
       "      <td>0.96</td>\n",
       "      <td>1.00</td>\n",
       "      <td>3.00</td>\n",
       "      <td>3.00</td>\n",
       "      <td>4.00</td>\n",
       "      <td>5.00</td>\n",
       "    </tr>\n",
       "    <tr>\n",
       "      <th>Income</th>\n",
       "      <td>180.00</td>\n",
       "      <td>NaN</td>\n",
       "      <td>NaN</td>\n",
       "      <td>NaN</td>\n",
       "      <td>53719.58</td>\n",
       "      <td>16506.68</td>\n",
       "      <td>29562.00</td>\n",
       "      <td>44058.75</td>\n",
       "      <td>50596.50</td>\n",
       "      <td>58668.00</td>\n",
       "      <td>104581.00</td>\n",
       "    </tr>\n",
       "    <tr>\n",
       "      <th>Miles</th>\n",
       "      <td>180.00</td>\n",
       "      <td>NaN</td>\n",
       "      <td>NaN</td>\n",
       "      <td>NaN</td>\n",
       "      <td>103.19</td>\n",
       "      <td>51.86</td>\n",
       "      <td>21.00</td>\n",
       "      <td>66.00</td>\n",
       "      <td>94.00</td>\n",
       "      <td>114.75</td>\n",
       "      <td>360.00</td>\n",
       "    </tr>\n",
       "  </tbody>\n",
       "</table>\n",
       "</div>\n",
       "      <button class=\"colab-df-convert\" onclick=\"convertToInteractive('df-87d5637b-1add-434b-b346-7cb2fafd859e')\"\n",
       "              title=\"Convert this dataframe to an interactive table.\"\n",
       "              style=\"display:none;\">\n",
       "        \n",
       "  <svg xmlns=\"http://www.w3.org/2000/svg\" height=\"24px\"viewBox=\"0 0 24 24\"\n",
       "       width=\"24px\">\n",
       "    <path d=\"M0 0h24v24H0V0z\" fill=\"none\"/>\n",
       "    <path d=\"M18.56 5.44l.94 2.06.94-2.06 2.06-.94-2.06-.94-.94-2.06-.94 2.06-2.06.94zm-11 1L8.5 8.5l.94-2.06 2.06-.94-2.06-.94L8.5 2.5l-.94 2.06-2.06.94zm10 10l.94 2.06.94-2.06 2.06-.94-2.06-.94-.94-2.06-.94 2.06-2.06.94z\"/><path d=\"M17.41 7.96l-1.37-1.37c-.4-.4-.92-.59-1.43-.59-.52 0-1.04.2-1.43.59L10.3 9.45l-7.72 7.72c-.78.78-.78 2.05 0 2.83L4 21.41c.39.39.9.59 1.41.59.51 0 1.02-.2 1.41-.59l7.78-7.78 2.81-2.81c.8-.78.8-2.07 0-2.86zM5.41 20L4 18.59l7.72-7.72 1.47 1.35L5.41 20z\"/>\n",
       "  </svg>\n",
       "      </button>\n",
       "      \n",
       "  <style>\n",
       "    .colab-df-container {\n",
       "      display:flex;\n",
       "      flex-wrap:wrap;\n",
       "      gap: 12px;\n",
       "    }\n",
       "\n",
       "    .colab-df-convert {\n",
       "      background-color: #E8F0FE;\n",
       "      border: none;\n",
       "      border-radius: 50%;\n",
       "      cursor: pointer;\n",
       "      display: none;\n",
       "      fill: #1967D2;\n",
       "      height: 32px;\n",
       "      padding: 0 0 0 0;\n",
       "      width: 32px;\n",
       "    }\n",
       "\n",
       "    .colab-df-convert:hover {\n",
       "      background-color: #E2EBFA;\n",
       "      box-shadow: 0px 1px 2px rgba(60, 64, 67, 0.3), 0px 1px 3px 1px rgba(60, 64, 67, 0.15);\n",
       "      fill: #174EA6;\n",
       "    }\n",
       "\n",
       "    [theme=dark] .colab-df-convert {\n",
       "      background-color: #3B4455;\n",
       "      fill: #D2E3FC;\n",
       "    }\n",
       "\n",
       "    [theme=dark] .colab-df-convert:hover {\n",
       "      background-color: #434B5C;\n",
       "      box-shadow: 0px 1px 3px 1px rgba(0, 0, 0, 0.15);\n",
       "      filter: drop-shadow(0px 1px 2px rgba(0, 0, 0, 0.3));\n",
       "      fill: #FFFFFF;\n",
       "    }\n",
       "  </style>\n",
       "\n",
       "      <script>\n",
       "        const buttonEl =\n",
       "          document.querySelector('#df-87d5637b-1add-434b-b346-7cb2fafd859e button.colab-df-convert');\n",
       "        buttonEl.style.display =\n",
       "          google.colab.kernel.accessAllowed ? 'block' : 'none';\n",
       "\n",
       "        async function convertToInteractive(key) {\n",
       "          const element = document.querySelector('#df-87d5637b-1add-434b-b346-7cb2fafd859e');\n",
       "          const dataTable =\n",
       "            await google.colab.kernel.invokeFunction('convertToInteractive',\n",
       "                                                     [key], {});\n",
       "          if (!dataTable) return;\n",
       "\n",
       "          const docLinkHtml = 'Like what you see? Visit the ' +\n",
       "            '<a target=\"_blank\" href=https://colab.research.google.com/notebooks/data_table.ipynb>data table notebook</a>'\n",
       "            + ' to learn more about interactive tables.';\n",
       "          element.innerHTML = '';\n",
       "          dataTable['output_type'] = 'display_data';\n",
       "          await google.colab.output.renderOutput(dataTable, element);\n",
       "          const docLink = document.createElement('div');\n",
       "          docLink.innerHTML = docLinkHtml;\n",
       "          element.appendChild(docLink);\n",
       "        }\n",
       "      </script>\n",
       "    </div>\n",
       "  </div>\n",
       "  "
      ],
      "text/plain": [
       "               count unique        top freq     mean      std      min  \\\n",
       "Product          180      3      TM195   80      NaN      NaN      NaN   \n",
       "Age           180.00    NaN        NaN  NaN    28.79     6.94    18.00   \n",
       "Gender           180      2       Male  104      NaN      NaN      NaN   \n",
       "Education     180.00    NaN        NaN  NaN    15.57     1.62    12.00   \n",
       "MaritalStatus    180      2  Partnered  107      NaN      NaN      NaN   \n",
       "Usage         180.00    NaN        NaN  NaN     3.46     1.08     2.00   \n",
       "Fitness       180.00    NaN        NaN  NaN     3.31     0.96     1.00   \n",
       "Income        180.00    NaN        NaN  NaN 53719.58 16506.68 29562.00   \n",
       "Miles         180.00    NaN        NaN  NaN   103.19    51.86    21.00   \n",
       "\n",
       "                   25%      50%      75%       max  \n",
       "Product            NaN      NaN      NaN       NaN  \n",
       "Age              24.00    26.00    33.00     50.00  \n",
       "Gender             NaN      NaN      NaN       NaN  \n",
       "Education        14.00    16.00    16.00     21.00  \n",
       "MaritalStatus      NaN      NaN      NaN       NaN  \n",
       "Usage             3.00     3.00     4.00      7.00  \n",
       "Fitness           3.00     3.00     4.00      5.00  \n",
       "Income        44058.75 50596.50 58668.00 104581.00  \n",
       "Miles            66.00    94.00   114.75    360.00  "
      ]
     },
     "execution_count": 46,
     "metadata": {},
     "output_type": "execute_result"
    }
   ],
   "source": [
    "# Review the statistical summary\n",
    "df.describe(include='all').T"
   ]
  },
  {
   "cell_type": "markdown",
   "metadata": {
    "id": "ihM-VIevyxUp"
   },
   "source": [
    "- *There are 3 products*\n",
    "- *Customers range from 18-50 years old, with 75% being under the age of 33*\n",
    "- ❗Further exploration: What is the customer spread by decade of life?\n",
    "- *Education ranges from 12-21 years*\n",
    "- *Customers wish to use the product from 2-7x per week*\n",
    "- *Customer fitness ranges from very unfit to very fit*\n",
    "- *Customer income ranges from 29,562 to 104,581, with 75% earning less than 58,668*\n",
    "- *Customers expect to run from 21-360 miles, with 75% planning to run less than 114 miles*"
   ]
  },
  {
   "cell_type": "markdown",
   "metadata": {
    "id": "pZEQHouJGjt2"
   },
   "source": [
    "## **Explore Relationships Between Customer Attributes**"
   ]
  },
  {
   "cell_type": "code",
   "execution_count": null,
   "metadata": {
    "colab": {
     "base_uri": "https://localhost:8080/",
     "height": 269
    },
    "executionInfo": {
     "elapsed": 678,
     "status": "ok",
     "timestamp": 1662943798334,
     "user": {
      "displayName": "Charlcye Mitchell",
      "userId": "15032698974823626783"
     },
     "user_tz": 300
    },
    "id": "zQjXYXUXKqPX",
    "outputId": "6fc252bc-6173-475d-f4ac-d42c7b20d8ea"
   },
   "outputs": [
    {
     "data": {
      "image/png": "[encoded data removed]",
      "text/plain": [
       "<Figure size 432x288 with 2 Axes>"
      ]
     },
     "metadata": {
      "needs_background": "light"
     },
     "output_type": "display_data"
    }
   ],
   "source": [
    "sns.heatmap(data=df[['Age','Education','Usage','Fitness', 'Income', 'Miles']].corr());"
   ]
  },
  {
   "cell_type": "markdown",
   "metadata": {
    "id": "R8QVdGX8LTlt"
   },
   "source": [
    "- *How fit a person rates themselves, the number of miles they intend to run, and the days per week they intend to use the equipment are all strongly positively correlated*\n",
    "- *There is a strong negative correlation between a person's age, and how fit they rate themselves, how many miles they intend to run, how many days per week they intend to use the equipment*\n",
    "- *Income & Education are somewhat positively correlated*\n",
    "- *CGF customers have a somewhat negative correlation between age and education level (interesting)*\n",
    "- *There is a somewhat negative correlation between education and how fit a person rates themselves, the number of miles they intend to run, and the days per week they intend to use the equipment*\n",
    "- ❗For further exploration: Is there a Gender:Income correlation?"
   ]
  },
  {
   "cell_type": "code",
   "execution_count": null,
   "metadata": {
    "colab": {
     "base_uri": "https://localhost:8080/",
     "height": 369
    },
    "executionInfo": {
     "elapsed": 521,
     "status": "ok",
     "timestamp": 1662947098422,
     "user": {
      "displayName": "Charlcye Mitchell",
      "userId": "15032698974823626783"
     },
     "user_tz": 300
    },
    "id": "M3XkuuRvVyfa",
    "outputId": "8cb17553-0e2a-4a72-f542-15c4472995f8"
   },
   "outputs": [
    {
     "data": {
      "image/png": "[encoded data removed]",
      "text/plain": [
       "<Figure size 360x360 with 1 Axes>"
      ]
     },
     "metadata": {
      "needs_background": "light"
     },
     "output_type": "display_data"
    }
   ],
   "source": [
    "sns.catplot(data=df, x=\"Gender\", kind=\"count\", palette=\"ch:.25\");\n"
   ]
  },
  {
   "cell_type": "markdown",
   "metadata": {
    "id": "KzG8fkeVX4G-"
   },
   "source": [
    "- *CGF has ~20% more male customers than female customers*"
   ]
  },
  {
   "cell_type": "code",
   "execution_count": null,
   "metadata": {
    "colab": {
     "base_uri": "https://localhost:8080/",
     "height": 369
    },
    "executionInfo": {
     "elapsed": 1133,
     "status": "ok",
     "timestamp": 1662947474106,
     "user": {
      "displayName": "Charlcye Mitchell",
      "userId": "15032698974823626783"
     },
     "user_tz": 300
    },
    "id": "QQ_lksndW1G5",
    "outputId": "463084e3-830e-462d-86f2-fb8348507682"
   },
   "outputs": [
    {
     "data": {
      "image/png": "[encoded data removed]",
      "text/plain": [
       "<Figure size 360x360 with 1 Axes>"
      ]
     },
     "metadata": {
      "needs_background": "light"
     },
     "output_type": "display_data"
    }
   ],
   "source": [
    "sns.catplot(data=df, x=\"MaritalStatus\", kind=\"count\", palette= \"tab10\");"
   ]
  },
  {
   "cell_type": "markdown",
   "metadata": {
    "id": "XNybYSRgYKjq"
   },
   "source": [
    "- *CGF has ~25% more partnered customers than single customers*\n",
    "-❗For further exploration: Do partnered customers plan to run more miles than single customers?"
   ]
  },
  {
   "cell_type": "markdown",
   "metadata": {
    "id": "5Zv8XoGovwD9"
   },
   "source": [
    "**Univariate Analysis of Customers Per Product**\n"
   ]
  },
  {
   "cell_type": "code",
   "execution_count": null,
   "metadata": {
    "colab": {
     "base_uri": "https://localhost:8080/",
     "height": 279
    },
    "executionInfo": {
     "elapsed": 289,
     "status": "ok",
     "timestamp": 1662942358272,
     "user": {
      "displayName": "Charlcye Mitchell",
      "userId": "15032698974823626783"
     },
     "user_tz": 300
    },
    "id": "ZWcwm5Xzlefe",
    "outputId": "c429bdba-7413-46bf-d071-7c86e068eff3"
   },
   "outputs": [
    {
     "data": {
      "image/png": "[encoded data removed]",
      "text/plain": [
       "<Figure size 432x288 with 1 Axes>"
      ]
     },
     "metadata": {
      "needs_background": "light"
     },
     "output_type": "display_data"
    }
   ],
   "source": [
    "# View overall popularity of product within this dataset\n",
    "sns.histplot(data = df, x='Product', bins=6);"
   ]
  },
  {
   "cell_type": "markdown",
   "metadata": {
    "id": "94IpPTFE12Yx"
   },
   "source": [
    "- *The 3 products are TM195, TM498, and TM798 with around 80, 60, and 40 customers respectively*"
   ]
  },
  {
   "cell_type": "markdown",
   "metadata": {
    "id": "7fuvAB3iEfBF"
   },
   "source": [
    "### Statistical Analysis of TM195 Customers"
   ]
  },
  {
   "cell_type": "markdown",
   "metadata": {
    "id": "If-XW1Y-Ee87"
   },
   "source": []
  },
  {
   "cell_type": "code",
   "execution_count": null,
   "metadata": {
    "colab": {
     "base_uri": "https://localhost:8080/",
     "height": 332
    },
    "executionInfo": {
     "elapsed": 137,
     "status": "ok",
     "timestamp": 1664018474349,
     "user": {
      "displayName": "Charlcye Mitchell",
      "userId": "15032698974823626783"
     },
     "user_tz": 300
    },
    "id": "ERHJY9F71tOd",
    "outputId": "2eec93fa-13de-4347-8079-b214e11cdc6b"
   },
   "outputs": [
    {
     "data": {
      "text/html": [
       "\n",
       "  <div id=\"df-895d4820-b15b-403a-b34f-a2cfa285d1b2\">\n",
       "    <div class=\"colab-df-container\">\n",
       "      <div>\n",
       "<style scoped>\n",
       "    .dataframe tbody tr th:only-of-type {\n",
       "        vertical-align: middle;\n",
       "    }\n",
       "\n",
       "    .dataframe tbody tr th {\n",
       "        vertical-align: top;\n",
       "    }\n",
       "\n",
       "    .dataframe thead th {\n",
       "        text-align: right;\n",
       "    }\n",
       "</style>\n",
       "<table border=\"1\" class=\"dataframe\">\n",
       "  <thead>\n",
       "    <tr style=\"text-align: right;\">\n",
       "      <th></th>\n",
       "      <th>count</th>\n",
       "      <th>unique</th>\n",
       "      <th>top</th>\n",
       "      <th>freq</th>\n",
       "      <th>mean</th>\n",
       "      <th>std</th>\n",
       "      <th>min</th>\n",
       "      <th>25%</th>\n",
       "      <th>50%</th>\n",
       "      <th>75%</th>\n",
       "      <th>max</th>\n",
       "    </tr>\n",
       "  </thead>\n",
       "  <tbody>\n",
       "    <tr>\n",
       "      <th>Product</th>\n",
       "      <td>80</td>\n",
       "      <td>1</td>\n",
       "      <td>TM195</td>\n",
       "      <td>80</td>\n",
       "      <td>NaN</td>\n",
       "      <td>NaN</td>\n",
       "      <td>NaN</td>\n",
       "      <td>NaN</td>\n",
       "      <td>NaN</td>\n",
       "      <td>NaN</td>\n",
       "      <td>NaN</td>\n",
       "    </tr>\n",
       "    <tr>\n",
       "      <th>Age</th>\n",
       "      <td>80.00</td>\n",
       "      <td>NaN</td>\n",
       "      <td>NaN</td>\n",
       "      <td>NaN</td>\n",
       "      <td>28.55</td>\n",
       "      <td>7.22</td>\n",
       "      <td>18.00</td>\n",
       "      <td>23.00</td>\n",
       "      <td>26.00</td>\n",
       "      <td>33.00</td>\n",
       "      <td>50.00</td>\n",
       "    </tr>\n",
       "    <tr>\n",
       "      <th>Gender</th>\n",
       "      <td>80</td>\n",
       "      <td>2</td>\n",
       "      <td>Male</td>\n",
       "      <td>40</td>\n",
       "      <td>NaN</td>\n",
       "      <td>NaN</td>\n",
       "      <td>NaN</td>\n",
       "      <td>NaN</td>\n",
       "      <td>NaN</td>\n",
       "      <td>NaN</td>\n",
       "      <td>NaN</td>\n",
       "    </tr>\n",
       "    <tr>\n",
       "      <th>Education</th>\n",
       "      <td>80.00</td>\n",
       "      <td>NaN</td>\n",
       "      <td>NaN</td>\n",
       "      <td>NaN</td>\n",
       "      <td>15.04</td>\n",
       "      <td>1.22</td>\n",
       "      <td>12.00</td>\n",
       "      <td>14.00</td>\n",
       "      <td>16.00</td>\n",
       "      <td>16.00</td>\n",
       "      <td>18.00</td>\n",
       "    </tr>\n",
       "    <tr>\n",
       "      <th>MaritalStatus</th>\n",
       "      <td>80</td>\n",
       "      <td>2</td>\n",
       "      <td>Partnered</td>\n",
       "      <td>48</td>\n",
       "      <td>NaN</td>\n",
       "      <td>NaN</td>\n",
       "      <td>NaN</td>\n",
       "      <td>NaN</td>\n",
       "      <td>NaN</td>\n",
       "      <td>NaN</td>\n",
       "      <td>NaN</td>\n",
       "    </tr>\n",
       "    <tr>\n",
       "      <th>Usage</th>\n",
       "      <td>80.00</td>\n",
       "      <td>NaN</td>\n",
       "      <td>NaN</td>\n",
       "      <td>NaN</td>\n",
       "      <td>3.09</td>\n",
       "      <td>0.78</td>\n",
       "      <td>2.00</td>\n",
       "      <td>3.00</td>\n",
       "      <td>3.00</td>\n",
       "      <td>4.00</td>\n",
       "      <td>5.00</td>\n",
       "    </tr>\n",
       "    <tr>\n",
       "      <th>Fitness</th>\n",
       "      <td>80.00</td>\n",
       "      <td>NaN</td>\n",
       "      <td>NaN</td>\n",
       "      <td>NaN</td>\n",
       "      <td>2.96</td>\n",
       "      <td>0.66</td>\n",
       "      <td>1.00</td>\n",
       "      <td>3.00</td>\n",
       "      <td>3.00</td>\n",
       "      <td>3.00</td>\n",
       "      <td>5.00</td>\n",
       "    </tr>\n",
       "    <tr>\n",
       "      <th>Income</th>\n",
       "      <td>80.00</td>\n",
       "      <td>NaN</td>\n",
       "      <td>NaN</td>\n",
       "      <td>NaN</td>\n",
       "      <td>46418.03</td>\n",
       "      <td>9075.78</td>\n",
       "      <td>29562.00</td>\n",
       "      <td>38658.00</td>\n",
       "      <td>46617.00</td>\n",
       "      <td>53439.00</td>\n",
       "      <td>68220.00</td>\n",
       "    </tr>\n",
       "    <tr>\n",
       "      <th>Miles</th>\n",
       "      <td>80.00</td>\n",
       "      <td>NaN</td>\n",
       "      <td>NaN</td>\n",
       "      <td>NaN</td>\n",
       "      <td>82.79</td>\n",
       "      <td>28.87</td>\n",
       "      <td>38.00</td>\n",
       "      <td>66.00</td>\n",
       "      <td>85.00</td>\n",
       "      <td>94.00</td>\n",
       "      <td>188.00</td>\n",
       "    </tr>\n",
       "  </tbody>\n",
       "</table>\n",
       "</div>\n",
       "      <button class=\"colab-df-convert\" onclick=\"convertToInteractive('df-895d4820-b15b-403a-b34f-a2cfa285d1b2')\"\n",
       "              title=\"Convert this dataframe to an interactive table.\"\n",
       "              style=\"display:none;\">\n",
       "        \n",
       "  <svg xmlns=\"http://www.w3.org/2000/svg\" height=\"24px\"viewBox=\"0 0 24 24\"\n",
       "       width=\"24px\">\n",
       "    <path d=\"M0 0h24v24H0V0z\" fill=\"none\"/>\n",
       "    <path d=\"M18.56 5.44l.94 2.06.94-2.06 2.06-.94-2.06-.94-.94-2.06-.94 2.06-2.06.94zm-11 1L8.5 8.5l.94-2.06 2.06-.94-2.06-.94L8.5 2.5l-.94 2.06-2.06.94zm10 10l.94 2.06.94-2.06 2.06-.94-2.06-.94-.94-2.06-.94 2.06-2.06.94z\"/><path d=\"M17.41 7.96l-1.37-1.37c-.4-.4-.92-.59-1.43-.59-.52 0-1.04.2-1.43.59L10.3 9.45l-7.72 7.72c-.78.78-.78 2.05 0 2.83L4 21.41c.39.39.9.59 1.41.59.51 0 1.02-.2 1.41-.59l7.78-7.78 2.81-2.81c.8-.78.8-2.07 0-2.86zM5.41 20L4 18.59l7.72-7.72 1.47 1.35L5.41 20z\"/>\n",
       "  </svg>\n",
       "      </button>\n",
       "      \n",
       "  <style>\n",
       "    .colab-df-container {\n",
       "      display:flex;\n",
       "      flex-wrap:wrap;\n",
       "      gap: 12px;\n",
       "    }\n",
       "\n",
       "    .colab-df-convert {\n",
       "      background-color: #E8F0FE;\n",
       "      border: none;\n",
       "      border-radius: 50%;\n",
       "      cursor: pointer;\n",
       "      display: none;\n",
       "      fill: #1967D2;\n",
       "      height: 32px;\n",
       "      padding: 0 0 0 0;\n",
       "      width: 32px;\n",
       "    }\n",
       "\n",
       "    .colab-df-convert:hover {\n",
       "      background-color: #E2EBFA;\n",
       "      box-shadow: 0px 1px 2px rgba(60, 64, 67, 0.3), 0px 1px 3px 1px rgba(60, 64, 67, 0.15);\n",
       "      fill: #174EA6;\n",
       "    }\n",
       "\n",
       "    [theme=dark] .colab-df-convert {\n",
       "      background-color: #3B4455;\n",
       "      fill: #D2E3FC;\n",
       "    }\n",
       "\n",
       "    [theme=dark] .colab-df-convert:hover {\n",
       "      background-color: #434B5C;\n",
       "      box-shadow: 0px 1px 3px 1px rgba(0, 0, 0, 0.15);\n",
       "      filter: drop-shadow(0px 1px 2px rgba(0, 0, 0, 0.3));\n",
       "      fill: #FFFFFF;\n",
       "    }\n",
       "  </style>\n",
       "\n",
       "      <script>\n",
       "        const buttonEl =\n",
       "          document.querySelector('#df-895d4820-b15b-403a-b34f-a2cfa285d1b2 button.colab-df-convert');\n",
       "        buttonEl.style.display =\n",
       "          google.colab.kernel.accessAllowed ? 'block' : 'none';\n",
       "\n",
       "        async function convertToInteractive(key) {\n",
       "          const element = document.querySelector('#df-895d4820-b15b-403a-b34f-a2cfa285d1b2');\n",
       "          const dataTable =\n",
       "            await google.colab.kernel.invokeFunction('convertToInteractive',\n",
       "                                                     [key], {});\n",
       "          if (!dataTable) return;\n",
       "\n",
       "          const docLinkHtml = 'Like what you see? Visit the ' +\n",
       "            '<a target=\"_blank\" href=https://colab.research.google.com/notebooks/data_table.ipynb>data table notebook</a>'\n",
       "            + ' to learn more about interactive tables.';\n",
       "          element.innerHTML = '';\n",
       "          dataTable['output_type'] = 'display_data';\n",
       "          await google.colab.output.renderOutput(dataTable, element);\n",
       "          const docLink = document.createElement('div');\n",
       "          docLink.innerHTML = docLinkHtml;\n",
       "          element.appendChild(docLink);\n",
       "        }\n",
       "      </script>\n",
       "    </div>\n",
       "  </div>\n",
       "  "
      ],
      "text/plain": [
       "              count unique        top freq     mean     std      min      25%  \\\n",
       "Product          80      1      TM195   80      NaN     NaN      NaN      NaN   \n",
       "Age           80.00    NaN        NaN  NaN    28.55    7.22    18.00    23.00   \n",
       "Gender           80      2       Male   40      NaN     NaN      NaN      NaN   \n",
       "Education     80.00    NaN        NaN  NaN    15.04    1.22    12.00    14.00   \n",
       "MaritalStatus    80      2  Partnered   48      NaN     NaN      NaN      NaN   \n",
       "Usage         80.00    NaN        NaN  NaN     3.09    0.78     2.00     3.00   \n",
       "Fitness       80.00    NaN        NaN  NaN     2.96    0.66     1.00     3.00   \n",
       "Income        80.00    NaN        NaN  NaN 46418.03 9075.78 29562.00 38658.00   \n",
       "Miles         80.00    NaN        NaN  NaN    82.79   28.87    38.00    66.00   \n",
       "\n",
       "                   50%      75%      max  \n",
       "Product            NaN      NaN      NaN  \n",
       "Age              26.00    33.00    50.00  \n",
       "Gender             NaN      NaN      NaN  \n",
       "Education        16.00    16.00    18.00  \n",
       "MaritalStatus      NaN      NaN      NaN  \n",
       "Usage             3.00     4.00     5.00  \n",
       "Fitness           3.00     3.00     5.00  \n",
       "Income        46617.00 53439.00 68220.00  \n",
       "Miles            85.00    94.00   188.00  "
      ]
     },
     "execution_count": 12,
     "metadata": {},
     "output_type": "execute_result"
    }
   ],
   "source": [
    "df[df.Product == 'TM195'].describe(include='all').T"
   ]
  },
  {
   "cell_type": "code",
   "execution_count": null,
   "metadata": {
    "colab": {
     "base_uri": "https://localhost:8080/",
     "height": 369
    },
    "executionInfo": {
     "elapsed": 559,
     "status": "ok",
     "timestamp": 1662946928797,
     "user": {
      "displayName": "Charlcye Mitchell",
      "userId": "15032698974823626783"
     },
     "user_tz": 300
    },
    "id": "JXU_dfbKXB_j",
    "outputId": "4d890008-90a3-4d87-c25d-068ac89f7f55"
   },
   "outputs": [
    {
     "data": {
      "image/png": "[encoded data removed]",
      "text/plain": [
       "<Figure size 360x360 with 1 Axes>"
      ]
     },
     "metadata": {
      "needs_background": "light"
     },
     "output_type": "display_data"
    }
   ],
   "source": [
    "sns.catplot(data=df[df.Product == 'TM195'], x=\"Gender\", kind=\"count\", palette=\"ch:.25\");"
   ]
  },
  {
   "cell_type": "code",
   "execution_count": null,
   "metadata": {
    "colab": {
     "base_uri": "https://localhost:8080/",
     "height": 369
    },
    "executionInfo": {
     "elapsed": 251,
     "status": "ok",
     "timestamp": 1662947504754,
     "user": {
      "displayName": "Charlcye Mitchell",
      "userId": "15032698974823626783"
     },
     "user_tz": 300
    },
    "id": "fKljJdsVZPt-",
    "outputId": "8a4b54c8-9bf3-4dab-eae7-7a2368b19944"
   },
   "outputs": [
    {
     "data": {
      "image/png": "[encoded data removed]",
      "text/plain": [
       "<Figure size 360x360 with 1 Axes>"
      ]
     },
     "metadata": {
      "needs_background": "light"
     },
     "output_type": "display_data"
    }
   ],
   "source": [
    "sns.catplot(data=df[df.Product == 'TM195'], x=\"MaritalStatus\", kind=\"count\", palette= \"tab10\");"
   ]
  },
  {
   "cell_type": "markdown",
   "metadata": {
    "id": "gAu633Ub5zii"
   },
   "source": [
    "- *TM195 customers range from 18-50 years old*\n",
    "- *Education ranges from 12-18 years*\n",
    "- *Customers wish to use the product from 2-5x per week*\n",
    "- *Customer fitness ranges from very unfit to very fit*\n",
    "- *Customer income ranges from 29,562 to 68,220 - the lower end of the pay range for Cardio Good Fitness customers*\n",
    "- *Customers expect to run from 38-188 miles*\n",
    "- *Both genders are equally represented*\n",
    "- *Like all CGF products, the customer profile is more Partnered than Single*"
   ]
  },
  {
   "cell_type": "markdown",
   "metadata": {
    "id": "0gVuhGDXv3kw"
   },
   "source": [
    "### Statistical Analysis of TM498 Customers\n"
   ]
  },
  {
   "cell_type": "code",
   "execution_count": null,
   "metadata": {
    "colab": {
     "base_uri": "https://localhost:8080/",
     "height": 332
    },
    "executionInfo": {
     "elapsed": 12,
     "status": "ok",
     "timestamp": 1662942361429,
     "user": {
      "displayName": "Charlcye Mitchell",
      "userId": "15032698974823626783"
     },
     "user_tz": 300
    },
    "id": "EKhLXNj85aN3",
    "outputId": "75edb2bc-0a66-44fd-91e5-6067a29d0533"
   },
   "outputs": [
    {
     "data": {
      "text/html": [
       "\n",
       "  <div id=\"df-362ab5f4-cbbe-4286-8c86-34261ce5f539\">\n",
       "    <div class=\"colab-df-container\">\n",
       "      <div>\n",
       "<style scoped>\n",
       "    .dataframe tbody tr th:only-of-type {\n",
       "        vertical-align: middle;\n",
       "    }\n",
       "\n",
       "    .dataframe tbody tr th {\n",
       "        vertical-align: top;\n",
       "    }\n",
       "\n",
       "    .dataframe thead th {\n",
       "        text-align: right;\n",
       "    }\n",
       "</style>\n",
       "<table border=\"1\" class=\"dataframe\">\n",
       "  <thead>\n",
       "    <tr style=\"text-align: right;\">\n",
       "      <th></th>\n",
       "      <th>count</th>\n",
       "      <th>unique</th>\n",
       "      <th>top</th>\n",
       "      <th>freq</th>\n",
       "      <th>mean</th>\n",
       "      <th>std</th>\n",
       "      <th>min</th>\n",
       "      <th>25%</th>\n",
       "      <th>50%</th>\n",
       "      <th>75%</th>\n",
       "      <th>max</th>\n",
       "    </tr>\n",
       "  </thead>\n",
       "  <tbody>\n",
       "    <tr>\n",
       "      <th>Product</th>\n",
       "      <td>60</td>\n",
       "      <td>1</td>\n",
       "      <td>TM498</td>\n",
       "      <td>60</td>\n",
       "      <td>NaN</td>\n",
       "      <td>NaN</td>\n",
       "      <td>NaN</td>\n",
       "      <td>NaN</td>\n",
       "      <td>NaN</td>\n",
       "      <td>NaN</td>\n",
       "      <td>NaN</td>\n",
       "    </tr>\n",
       "    <tr>\n",
       "      <th>Age</th>\n",
       "      <td>60.00</td>\n",
       "      <td>NaN</td>\n",
       "      <td>NaN</td>\n",
       "      <td>NaN</td>\n",
       "      <td>28.90</td>\n",
       "      <td>6.65</td>\n",
       "      <td>19.00</td>\n",
       "      <td>24.00</td>\n",
       "      <td>26.00</td>\n",
       "      <td>33.25</td>\n",
       "      <td>48.00</td>\n",
       "    </tr>\n",
       "    <tr>\n",
       "      <th>Gender</th>\n",
       "      <td>60</td>\n",
       "      <td>2</td>\n",
       "      <td>Male</td>\n",
       "      <td>31</td>\n",
       "      <td>NaN</td>\n",
       "      <td>NaN</td>\n",
       "      <td>NaN</td>\n",
       "      <td>NaN</td>\n",
       "      <td>NaN</td>\n",
       "      <td>NaN</td>\n",
       "      <td>NaN</td>\n",
       "    </tr>\n",
       "    <tr>\n",
       "      <th>Education</th>\n",
       "      <td>60.00</td>\n",
       "      <td>NaN</td>\n",
       "      <td>NaN</td>\n",
       "      <td>NaN</td>\n",
       "      <td>15.12</td>\n",
       "      <td>1.22</td>\n",
       "      <td>12.00</td>\n",
       "      <td>14.00</td>\n",
       "      <td>16.00</td>\n",
       "      <td>16.00</td>\n",
       "      <td>18.00</td>\n",
       "    </tr>\n",
       "    <tr>\n",
       "      <th>MaritalStatus</th>\n",
       "      <td>60</td>\n",
       "      <td>2</td>\n",
       "      <td>Partnered</td>\n",
       "      <td>36</td>\n",
       "      <td>NaN</td>\n",
       "      <td>NaN</td>\n",
       "      <td>NaN</td>\n",
       "      <td>NaN</td>\n",
       "      <td>NaN</td>\n",
       "      <td>NaN</td>\n",
       "      <td>NaN</td>\n",
       "    </tr>\n",
       "    <tr>\n",
       "      <th>Usage</th>\n",
       "      <td>60.00</td>\n",
       "      <td>NaN</td>\n",
       "      <td>NaN</td>\n",
       "      <td>NaN</td>\n",
       "      <td>3.07</td>\n",
       "      <td>0.80</td>\n",
       "      <td>2.00</td>\n",
       "      <td>3.00</td>\n",
       "      <td>3.00</td>\n",
       "      <td>3.25</td>\n",
       "      <td>5.00</td>\n",
       "    </tr>\n",
       "    <tr>\n",
       "      <th>Fitness</th>\n",
       "      <td>60.00</td>\n",
       "      <td>NaN</td>\n",
       "      <td>NaN</td>\n",
       "      <td>NaN</td>\n",
       "      <td>2.90</td>\n",
       "      <td>0.63</td>\n",
       "      <td>1.00</td>\n",
       "      <td>3.00</td>\n",
       "      <td>3.00</td>\n",
       "      <td>3.00</td>\n",
       "      <td>4.00</td>\n",
       "    </tr>\n",
       "    <tr>\n",
       "      <th>Income</th>\n",
       "      <td>60.00</td>\n",
       "      <td>NaN</td>\n",
       "      <td>NaN</td>\n",
       "      <td>NaN</td>\n",
       "      <td>48973.65</td>\n",
       "      <td>8653.99</td>\n",
       "      <td>31836.00</td>\n",
       "      <td>44911.50</td>\n",
       "      <td>49459.50</td>\n",
       "      <td>53439.00</td>\n",
       "      <td>67083.00</td>\n",
       "    </tr>\n",
       "    <tr>\n",
       "      <th>Miles</th>\n",
       "      <td>60.00</td>\n",
       "      <td>NaN</td>\n",
       "      <td>NaN</td>\n",
       "      <td>NaN</td>\n",
       "      <td>87.93</td>\n",
       "      <td>33.26</td>\n",
       "      <td>21.00</td>\n",
       "      <td>64.00</td>\n",
       "      <td>85.00</td>\n",
       "      <td>106.00</td>\n",
       "      <td>212.00</td>\n",
       "    </tr>\n",
       "  </tbody>\n",
       "</table>\n",
       "</div>\n",
       "      <button class=\"colab-df-convert\" onclick=\"convertToInteractive('df-362ab5f4-cbbe-4286-8c86-34261ce5f539')\"\n",
       "              title=\"Convert this dataframe to an interactive table.\"\n",
       "              style=\"display:none;\">\n",
       "        \n",
       "  <svg xmlns=\"http://www.w3.org/2000/svg\" height=\"24px\"viewBox=\"0 0 24 24\"\n",
       "       width=\"24px\">\n",
       "    <path d=\"M0 0h24v24H0V0z\" fill=\"none\"/>\n",
       "    <path d=\"M18.56 5.44l.94 2.06.94-2.06 2.06-.94-2.06-.94-.94-2.06-.94 2.06-2.06.94zm-11 1L8.5 8.5l.94-2.06 2.06-.94-2.06-.94L8.5 2.5l-.94 2.06-2.06.94zm10 10l.94 2.06.94-2.06 2.06-.94-2.06-.94-.94-2.06-.94 2.06-2.06.94z\"/><path d=\"M17.41 7.96l-1.37-1.37c-.4-.4-.92-.59-1.43-.59-.52 0-1.04.2-1.43.59L10.3 9.45l-7.72 7.72c-.78.78-.78 2.05 0 2.83L4 21.41c.39.39.9.59 1.41.59.51 0 1.02-.2 1.41-.59l7.78-7.78 2.81-2.81c.8-.78.8-2.07 0-2.86zM5.41 20L4 18.59l7.72-7.72 1.47 1.35L5.41 20z\"/>\n",
       "  </svg>\n",
       "      </button>\n",
       "      \n",
       "  <style>\n",
       "    .colab-df-container {\n",
       "      display:flex;\n",
       "      flex-wrap:wrap;\n",
       "      gap: 12px;\n",
       "    }\n",
       "\n",
       "    .colab-df-convert {\n",
       "      background-color: #E8F0FE;\n",
       "      border: none;\n",
       "      border-radius: 50%;\n",
       "      cursor: pointer;\n",
       "      display: none;\n",
       "      fill: #1967D2;\n",
       "      height: 32px;\n",
       "      padding: 0 0 0 0;\n",
       "      width: 32px;\n",
       "    }\n",
       "\n",
       "    .colab-df-convert:hover {\n",
       "      background-color: #E2EBFA;\n",
       "      box-shadow: 0px 1px 2px rgba(60, 64, 67, 0.3), 0px 1px 3px 1px rgba(60, 64, 67, 0.15);\n",
       "      fill: #174EA6;\n",
       "    }\n",
       "\n",
       "    [theme=dark] .colab-df-convert {\n",
       "      background-color: #3B4455;\n",
       "      fill: #D2E3FC;\n",
       "    }\n",
       "\n",
       "    [theme=dark] .colab-df-convert:hover {\n",
       "      background-color: #434B5C;\n",
       "      box-shadow: 0px 1px 3px 1px rgba(0, 0, 0, 0.15);\n",
       "      filter: drop-shadow(0px 1px 2px rgba(0, 0, 0, 0.3));\n",
       "      fill: #FFFFFF;\n",
       "    }\n",
       "  </style>\n",
       "\n",
       "      <script>\n",
       "        const buttonEl =\n",
       "          document.querySelector('#df-362ab5f4-cbbe-4286-8c86-34261ce5f539 button.colab-df-convert');\n",
       "        buttonEl.style.display =\n",
       "          google.colab.kernel.accessAllowed ? 'block' : 'none';\n",
       "\n",
       "        async function convertToInteractive(key) {\n",
       "          const element = document.querySelector('#df-362ab5f4-cbbe-4286-8c86-34261ce5f539');\n",
       "          const dataTable =\n",
       "            await google.colab.kernel.invokeFunction('convertToInteractive',\n",
       "                                                     [key], {});\n",
       "          if (!dataTable) return;\n",
       "\n",
       "          const docLinkHtml = 'Like what you see? Visit the ' +\n",
       "            '<a target=\"_blank\" href=https://colab.research.google.com/notebooks/data_table.ipynb>data table notebook</a>'\n",
       "            + ' to learn more about interactive tables.';\n",
       "          element.innerHTML = '';\n",
       "          dataTable['output_type'] = 'display_data';\n",
       "          await google.colab.output.renderOutput(dataTable, element);\n",
       "          const docLink = document.createElement('div');\n",
       "          docLink.innerHTML = docLinkHtml;\n",
       "          element.appendChild(docLink);\n",
       "        }\n",
       "      </script>\n",
       "    </div>\n",
       "  </div>\n",
       "  "
      ],
      "text/plain": [
       "              count unique        top freq     mean     std      min      25%  \\\n",
       "Product          60      1      TM498   60      NaN     NaN      NaN      NaN   \n",
       "Age           60.00    NaN        NaN  NaN    28.90    6.65    19.00    24.00   \n",
       "Gender           60      2       Male   31      NaN     NaN      NaN      NaN   \n",
       "Education     60.00    NaN        NaN  NaN    15.12    1.22    12.00    14.00   \n",
       "MaritalStatus    60      2  Partnered   36      NaN     NaN      NaN      NaN   \n",
       "Usage         60.00    NaN        NaN  NaN     3.07    0.80     2.00     3.00   \n",
       "Fitness       60.00    NaN        NaN  NaN     2.90    0.63     1.00     3.00   \n",
       "Income        60.00    NaN        NaN  NaN 48973.65 8653.99 31836.00 44911.50   \n",
       "Miles         60.00    NaN        NaN  NaN    87.93   33.26    21.00    64.00   \n",
       "\n",
       "                   50%      75%      max  \n",
       "Product            NaN      NaN      NaN  \n",
       "Age              26.00    33.25    48.00  \n",
       "Gender             NaN      NaN      NaN  \n",
       "Education        16.00    16.00    18.00  \n",
       "MaritalStatus      NaN      NaN      NaN  \n",
       "Usage             3.00     3.25     5.00  \n",
       "Fitness           3.00     3.00     4.00  \n",
       "Income        49459.50 53439.00 67083.00  \n",
       "Miles            85.00   106.00   212.00  "
      ]
     },
     "execution_count": 49,
     "metadata": {},
     "output_type": "execute_result"
    }
   ],
   "source": [
    "df[df.Product == 'TM498'].describe(include='all').T"
   ]
  },
  {
   "cell_type": "code",
   "execution_count": null,
   "metadata": {
    "colab": {
     "base_uri": "https://localhost:8080/",
     "height": 369
    },
    "executionInfo": {
     "elapsed": 596,
     "status": "ok",
     "timestamp": 1662946974868,
     "user": {
      "displayName": "Charlcye Mitchell",
      "userId": "15032698974823626783"
     },
     "user_tz": 300
    },
    "id": "uUXPv3zzXPGD",
    "outputId": "7bf5928e-8026-447f-a617-6ee393058735"
   },
   "outputs": [
    {
     "data": {
      "image/png": "[encoded data removed]",
      "text/plain": [
       "<Figure size 360x360 with 1 Axes>"
      ]
     },
     "metadata": {
      "needs_background": "light"
     },
     "output_type": "display_data"
    }
   ],
   "source": [
    "sns.catplot(data=df[df.Product == 'TM498'], x=\"Gender\", kind=\"count\", palette=\"ch:.25\");"
   ]
  },
  {
   "cell_type": "code",
   "execution_count": null,
   "metadata": {
    "colab": {
     "base_uri": "https://localhost:8080/",
     "height": 369
    },
    "executionInfo": {
     "elapsed": 503,
     "status": "ok",
     "timestamp": 1662947529962,
     "user": {
      "displayName": "Charlcye Mitchell",
      "userId": "15032698974823626783"
     },
     "user_tz": 300
    },
    "id": "37JY8ycGZXB4",
    "outputId": "0195a262-c995-4676-f801-a1d740ea11d6"
   },
   "outputs": [
    {
     "data": {
      "image/png": "[encoded data removed]",
      "text/plain": [
       "<Figure size 360x360 with 1 Axes>"
      ]
     },
     "metadata": {
      "needs_background": "light"
     },
     "output_type": "display_data"
    }
   ],
   "source": [
    "sns.catplot(data=df[df.Product == 'TM498'], x=\"MaritalStatus\", kind=\"count\", palette= \"tab10\");"
   ]
  },
  {
   "cell_type": "markdown",
   "metadata": {
    "id": "lsIMlLAK6Yjj"
   },
   "source": [
    "- *Customers range from 19-48 years old*\n",
    "- *Education ranges from 12-18 years*\n",
    "- *Customers wish to use the product from 2-5x per week*\n",
    "- *Customer fitness ranges from very unfit to somewhat fit*\n",
    "- *Customer income ranges from 31,836 to 67,083 - low-mid range for CGF customers*\n",
    "- *Customers expect to run from 21-212 miles*\n",
    "- *Both genders are almost equally represented, with slightly more male customers*\n",
    "- *Like all CGF products, the customer profile is more Partnered than Single*"
   ]
  },
  {
   "cell_type": "markdown",
   "metadata": {
    "id": "qCH8_bTDv9GJ"
   },
   "source": [
    "### Statistical Analysis of TM798 Customers\n"
   ]
  },
  {
   "cell_type": "code",
   "execution_count": null,
   "metadata": {
    "colab": {
     "base_uri": "https://localhost:8080/",
     "height": 332
    },
    "executionInfo": {
     "elapsed": 10,
     "status": "ok",
     "timestamp": 1662942361431,
     "user": {
      "displayName": "Charlcye Mitchell",
      "userId": "15032698974823626783"
     },
     "user_tz": 300
    },
    "id": "yUHis_WZ5kXs",
    "outputId": "82d9933d-b6b7-4b06-8d81-06d81f769f4f"
   },
   "outputs": [
    {
     "data": {
      "text/html": [
       "\n",
       "  <div id=\"df-40302916-7674-4f04-8c9b-663a356489ef\">\n",
       "    <div class=\"colab-df-container\">\n",
       "      <div>\n",
       "<style scoped>\n",
       "    .dataframe tbody tr th:only-of-type {\n",
       "        vertical-align: middle;\n",
       "    }\n",
       "\n",
       "    .dataframe tbody tr th {\n",
       "        vertical-align: top;\n",
       "    }\n",
       "\n",
       "    .dataframe thead th {\n",
       "        text-align: right;\n",
       "    }\n",
       "</style>\n",
       "<table border=\"1\" class=\"dataframe\">\n",
       "  <thead>\n",
       "    <tr style=\"text-align: right;\">\n",
       "      <th></th>\n",
       "      <th>count</th>\n",
       "      <th>unique</th>\n",
       "      <th>top</th>\n",
       "      <th>freq</th>\n",
       "      <th>mean</th>\n",
       "      <th>std</th>\n",
       "      <th>min</th>\n",
       "      <th>25%</th>\n",
       "      <th>50%</th>\n",
       "      <th>75%</th>\n",
       "      <th>max</th>\n",
       "    </tr>\n",
       "  </thead>\n",
       "  <tbody>\n",
       "    <tr>\n",
       "      <th>Product</th>\n",
       "      <td>40</td>\n",
       "      <td>1</td>\n",
       "      <td>TM798</td>\n",
       "      <td>40</td>\n",
       "      <td>NaN</td>\n",
       "      <td>NaN</td>\n",
       "      <td>NaN</td>\n",
       "      <td>NaN</td>\n",
       "      <td>NaN</td>\n",
       "      <td>NaN</td>\n",
       "      <td>NaN</td>\n",
       "    </tr>\n",
       "    <tr>\n",
       "      <th>Age</th>\n",
       "      <td>40.00</td>\n",
       "      <td>NaN</td>\n",
       "      <td>NaN</td>\n",
       "      <td>NaN</td>\n",
       "      <td>29.10</td>\n",
       "      <td>6.97</td>\n",
       "      <td>22.00</td>\n",
       "      <td>24.75</td>\n",
       "      <td>27.00</td>\n",
       "      <td>30.25</td>\n",
       "      <td>48.00</td>\n",
       "    </tr>\n",
       "    <tr>\n",
       "      <th>Gender</th>\n",
       "      <td>40</td>\n",
       "      <td>2</td>\n",
       "      <td>Male</td>\n",
       "      <td>33</td>\n",
       "      <td>NaN</td>\n",
       "      <td>NaN</td>\n",
       "      <td>NaN</td>\n",
       "      <td>NaN</td>\n",
       "      <td>NaN</td>\n",
       "      <td>NaN</td>\n",
       "      <td>NaN</td>\n",
       "    </tr>\n",
       "    <tr>\n",
       "      <th>Education</th>\n",
       "      <td>40.00</td>\n",
       "      <td>NaN</td>\n",
       "      <td>NaN</td>\n",
       "      <td>NaN</td>\n",
       "      <td>17.32</td>\n",
       "      <td>1.64</td>\n",
       "      <td>14.00</td>\n",
       "      <td>16.00</td>\n",
       "      <td>18.00</td>\n",
       "      <td>18.00</td>\n",
       "      <td>21.00</td>\n",
       "    </tr>\n",
       "    <tr>\n",
       "      <th>MaritalStatus</th>\n",
       "      <td>40</td>\n",
       "      <td>2</td>\n",
       "      <td>Partnered</td>\n",
       "      <td>23</td>\n",
       "      <td>NaN</td>\n",
       "      <td>NaN</td>\n",
       "      <td>NaN</td>\n",
       "      <td>NaN</td>\n",
       "      <td>NaN</td>\n",
       "      <td>NaN</td>\n",
       "      <td>NaN</td>\n",
       "    </tr>\n",
       "    <tr>\n",
       "      <th>Usage</th>\n",
       "      <td>40.00</td>\n",
       "      <td>NaN</td>\n",
       "      <td>NaN</td>\n",
       "      <td>NaN</td>\n",
       "      <td>4.78</td>\n",
       "      <td>0.95</td>\n",
       "      <td>3.00</td>\n",
       "      <td>4.00</td>\n",
       "      <td>5.00</td>\n",
       "      <td>5.00</td>\n",
       "      <td>7.00</td>\n",
       "    </tr>\n",
       "    <tr>\n",
       "      <th>Fitness</th>\n",
       "      <td>40.00</td>\n",
       "      <td>NaN</td>\n",
       "      <td>NaN</td>\n",
       "      <td>NaN</td>\n",
       "      <td>4.62</td>\n",
       "      <td>0.67</td>\n",
       "      <td>3.00</td>\n",
       "      <td>4.00</td>\n",
       "      <td>5.00</td>\n",
       "      <td>5.00</td>\n",
       "      <td>5.00</td>\n",
       "    </tr>\n",
       "    <tr>\n",
       "      <th>Income</th>\n",
       "      <td>40.00</td>\n",
       "      <td>NaN</td>\n",
       "      <td>NaN</td>\n",
       "      <td>NaN</td>\n",
       "      <td>75441.57</td>\n",
       "      <td>18505.84</td>\n",
       "      <td>48556.00</td>\n",
       "      <td>58204.75</td>\n",
       "      <td>76568.50</td>\n",
       "      <td>90886.00</td>\n",
       "      <td>104581.00</td>\n",
       "    </tr>\n",
       "    <tr>\n",
       "      <th>Miles</th>\n",
       "      <td>40.00</td>\n",
       "      <td>NaN</td>\n",
       "      <td>NaN</td>\n",
       "      <td>NaN</td>\n",
       "      <td>166.90</td>\n",
       "      <td>60.07</td>\n",
       "      <td>80.00</td>\n",
       "      <td>120.00</td>\n",
       "      <td>160.00</td>\n",
       "      <td>200.00</td>\n",
       "      <td>360.00</td>\n",
       "    </tr>\n",
       "  </tbody>\n",
       "</table>\n",
       "</div>\n",
       "      <button class=\"colab-df-convert\" onclick=\"convertToInteractive('df-40302916-7674-4f04-8c9b-663a356489ef')\"\n",
       "              title=\"Convert this dataframe to an interactive table.\"\n",
       "              style=\"display:none;\">\n",
       "        \n",
       "  <svg xmlns=\"http://www.w3.org/2000/svg\" height=\"24px\"viewBox=\"0 0 24 24\"\n",
       "       width=\"24px\">\n",
       "    <path d=\"M0 0h24v24H0V0z\" fill=\"none\"/>\n",
       "    <path d=\"M18.56 5.44l.94 2.06.94-2.06 2.06-.94-2.06-.94-.94-2.06-.94 2.06-2.06.94zm-11 1L8.5 8.5l.94-2.06 2.06-.94-2.06-.94L8.5 2.5l-.94 2.06-2.06.94zm10 10l.94 2.06.94-2.06 2.06-.94-2.06-.94-.94-2.06-.94 2.06-2.06.94z\"/><path d=\"M17.41 7.96l-1.37-1.37c-.4-.4-.92-.59-1.43-.59-.52 0-1.04.2-1.43.59L10.3 9.45l-7.72 7.72c-.78.78-.78 2.05 0 2.83L4 21.41c.39.39.9.59 1.41.59.51 0 1.02-.2 1.41-.59l7.78-7.78 2.81-2.81c.8-.78.8-2.07 0-2.86zM5.41 20L4 18.59l7.72-7.72 1.47 1.35L5.41 20z\"/>\n",
       "  </svg>\n",
       "      </button>\n",
       "      \n",
       "  <style>\n",
       "    .colab-df-container {\n",
       "      display:flex;\n",
       "      flex-wrap:wrap;\n",
       "      gap: 12px;\n",
       "    }\n",
       "\n",
       "    .colab-df-convert {\n",
       "      background-color: #E8F0FE;\n",
       "      border: none;\n",
       "      border-radius: 50%;\n",
       "      cursor: pointer;\n",
       "      display: none;\n",
       "      fill: #1967D2;\n",
       "      height: 32px;\n",
       "      padding: 0 0 0 0;\n",
       "      width: 32px;\n",
       "    }\n",
       "\n",
       "    .colab-df-convert:hover {\n",
       "      background-color: #E2EBFA;\n",
       "      box-shadow: 0px 1px 2px rgba(60, 64, 67, 0.3), 0px 1px 3px 1px rgba(60, 64, 67, 0.15);\n",
       "      fill: #174EA6;\n",
       "    }\n",
       "\n",
       "    [theme=dark] .colab-df-convert {\n",
       "      background-color: #3B4455;\n",
       "      fill: #D2E3FC;\n",
       "    }\n",
       "\n",
       "    [theme=dark] .colab-df-convert:hover {\n",
       "      background-color: #434B5C;\n",
       "      box-shadow: 0px 1px 3px 1px rgba(0, 0, 0, 0.15);\n",
       "      filter: drop-shadow(0px 1px 2px rgba(0, 0, 0, 0.3));\n",
       "      fill: #FFFFFF;\n",
       "    }\n",
       "  </style>\n",
       "\n",
       "      <script>\n",
       "        const buttonEl =\n",
       "          document.querySelector('#df-40302916-7674-4f04-8c9b-663a356489ef button.colab-df-convert');\n",
       "        buttonEl.style.display =\n",
       "          google.colab.kernel.accessAllowed ? 'block' : 'none';\n",
       "\n",
       "        async function convertToInteractive(key) {\n",
       "          const element = document.querySelector('#df-40302916-7674-4f04-8c9b-663a356489ef');\n",
       "          const dataTable =\n",
       "            await google.colab.kernel.invokeFunction('convertToInteractive',\n",
       "                                                     [key], {});\n",
       "          if (!dataTable) return;\n",
       "\n",
       "          const docLinkHtml = 'Like what you see? Visit the ' +\n",
       "            '<a target=\"_blank\" href=https://colab.research.google.com/notebooks/data_table.ipynb>data table notebook</a>'\n",
       "            + ' to learn more about interactive tables.';\n",
       "          element.innerHTML = '';\n",
       "          dataTable['output_type'] = 'display_data';\n",
       "          await google.colab.output.renderOutput(dataTable, element);\n",
       "          const docLink = document.createElement('div');\n",
       "          docLink.innerHTML = docLinkHtml;\n",
       "          element.appendChild(docLink);\n",
       "        }\n",
       "      </script>\n",
       "    </div>\n",
       "  </div>\n",
       "  "
      ],
      "text/plain": [
       "              count unique        top freq     mean      std      min  \\\n",
       "Product          40      1      TM798   40      NaN      NaN      NaN   \n",
       "Age           40.00    NaN        NaN  NaN    29.10     6.97    22.00   \n",
       "Gender           40      2       Male   33      NaN      NaN      NaN   \n",
       "Education     40.00    NaN        NaN  NaN    17.32     1.64    14.00   \n",
       "MaritalStatus    40      2  Partnered   23      NaN      NaN      NaN   \n",
       "Usage         40.00    NaN        NaN  NaN     4.78     0.95     3.00   \n",
       "Fitness       40.00    NaN        NaN  NaN     4.62     0.67     3.00   \n",
       "Income        40.00    NaN        NaN  NaN 75441.57 18505.84 48556.00   \n",
       "Miles         40.00    NaN        NaN  NaN   166.90    60.07    80.00   \n",
       "\n",
       "                   25%      50%      75%       max  \n",
       "Product            NaN      NaN      NaN       NaN  \n",
       "Age              24.75    27.00    30.25     48.00  \n",
       "Gender             NaN      NaN      NaN       NaN  \n",
       "Education        16.00    18.00    18.00     21.00  \n",
       "MaritalStatus      NaN      NaN      NaN       NaN  \n",
       "Usage             4.00     5.00     5.00      7.00  \n",
       "Fitness           4.00     5.00     5.00      5.00  \n",
       "Income        58204.75 76568.50 90886.00 104581.00  \n",
       "Miles           120.00   160.00   200.00    360.00  "
      ]
     },
     "execution_count": 50,
     "metadata": {},
     "output_type": "execute_result"
    }
   ],
   "source": [
    "df[df.Product == 'TM798'].describe(include='all').T"
   ]
  },
  {
   "cell_type": "code",
   "execution_count": null,
   "metadata": {
    "colab": {
     "base_uri": "https://localhost:8080/",
     "height": 369
    },
    "executionInfo": {
     "elapsed": 527,
     "status": "ok",
     "timestamp": 1662947016205,
     "user": {
      "displayName": "Charlcye Mitchell",
      "userId": "15032698974823626783"
     },
     "user_tz": 300
    },
    "id": "aDkaIknZXaRJ",
    "outputId": "a31d5471-9d22-4b0a-bcf3-0f513fbf98bb"
   },
   "outputs": [
    {
     "data": {
      "image/png": "[encoded data removed]",
      "text/plain": [
       "<Figure size 360x360 with 1 Axes>"
      ]
     },
     "metadata": {
      "needs_background": "light"
     },
     "output_type": "display_data"
    }
   ],
   "source": [
    "sns.catplot(data=df[df.Product == 'TM798'], x=\"Gender\", kind=\"count\", palette=\"ch:.25\");"
   ]
  },
  {
   "cell_type": "code",
   "execution_count": null,
   "metadata": {
    "colab": {
     "base_uri": "https://localhost:8080/",
     "height": 369
    },
    "executionInfo": {
     "elapsed": 543,
     "status": "ok",
     "timestamp": 1662947558186,
     "user": {
      "displayName": "Charlcye Mitchell",
      "userId": "15032698974823626783"
     },
     "user_tz": 300
    },
    "id": "6jUO_V7sZb_d",
    "outputId": "506b199c-4602-4045-a8e8-989b05023cab"
   },
   "outputs": [
    {
     "data": {
      "image/png": "[encoded data removed]",
      "text/plain": [
       "<Figure size 360x360 with 1 Axes>"
      ]
     },
     "metadata": {
      "needs_background": "light"
     },
     "output_type": "display_data"
    }
   ],
   "source": [
    "sns.catplot(data=df[df.Product == 'TM798'], x=\"MaritalStatus\", kind=\"count\", palette= \"tab10\");"
   ]
  },
  {
   "cell_type": "markdown",
   "metadata": {
    "id": "ZO0Z0Ryk68Cs"
   },
   "source": [
    "- *Customers range from 22-48 years old*\n",
    "- *Education ranges from 14-21 years*\n",
    "- *Customers wish to use the product from 3-7x per week*\n",
    "- *Customer fitness ranges from fit to very fit*\n",
    "- *Customer income ranges from 48,556 to 104,581 - high end range of CGF customer incomes*\n",
    "- *Customers expect to run from 80-360 miles (there is an outlier here, as the mean is 166 and the median is 160)*\n",
    "- *There are signifigantly more male customers than female customers using the TM798*\n",
    "- *Like all CGF products, the customer profile is more Partnered than Single*"
   ]
  },
  {
   "cell_type": "markdown",
   "metadata": {
    "id": "KYsrG6b5-j9r"
   },
   "source": [
    "## **Customer Differences Per Product**\n",
    "\n"
   ]
  },
  {
   "cell_type": "markdown",
   "metadata": {
    "id": "GfVd0kd7F2rB"
   },
   "source": [
    "### Income"
   ]
  },
  {
   "cell_type": "code",
   "execution_count": null,
   "metadata": {
    "colab": {
     "base_uri": "https://localhost:8080/",
     "height": 357
    },
    "executionInfo": {
     "elapsed": 302,
     "status": "ok",
     "timestamp": 1664018681442,
     "user": {
      "displayName": "Charlcye Mitchell",
      "userId": "15032698974823626783"
     },
     "user_tz": 300
    },
    "id": "3_xpyq3s-L5p",
    "outputId": "fbada215-a183-4e97-f7af-1ccc4f962d5b"
   },
   "outputs": [
    {
     "data": {
      "image/png": "[encoded data removed]",
      "text/plain": [
       "<Figure size 720x360 with 1 Axes>"
      ]
     },
     "metadata": {
      "needs_background": "light"
     },
     "output_type": "display_data"
    }
   ],
   "source": [
    "# What is the customer's income range for each product?\n",
    "plt.figure(figsize=(10,5))\n",
    "sns.boxplot(data=df,x='Product',y='Income',showfliers=True) # turning on outliers\n",
    "plt.xticks(rotation=90)\n",
    "plt.show()"
   ]
  },
  {
   "cell_type": "markdown",
   "metadata": {
    "id": "Prldut3JT92f"
   },
   "source": [
    "\n",
    "\n",
    "*   Higher income customers purchase the TM798\n",
    "*   Lower income customers purchase the TM195\n",
    "\n"
   ]
  },
  {
   "cell_type": "markdown",
   "metadata": {
    "id": "lf7AmYUPF5YS"
   },
   "source": [
    "### Education"
   ]
  },
  {
   "cell_type": "code",
   "execution_count": null,
   "metadata": {
    "colab": {
     "base_uri": "https://localhost:8080/",
     "height": 357
    },
    "executionInfo": {
     "elapsed": 236,
     "status": "ok",
     "timestamp": 1664018684153,
     "user": {
      "displayName": "Charlcye Mitchell",
      "userId": "15032698974823626783"
     },
     "user_tz": 300
    },
    "id": "8nMqhtQS_dzw",
    "outputId": "bd5a9648-cdf7-49ec-a181-ed18358909f1"
   },
   "outputs": [
    {
     "data": {
      "image/png": "[encoded data removed]",
      "text/plain": [
       "<Figure size 720x360 with 1 Axes>"
      ]
     },
     "metadata": {
      "needs_background": "light"
     },
     "output_type": "display_data"
    }
   ],
   "source": [
    "# What is the customer's education range for each product?\n",
    "plt.figure(figsize=(10,5))\n",
    "sns.boxplot(data=df,x='Product',y='Education',showfliers=False) # turning off outliers\n",
    "plt.xticks(rotation=90)\n",
    "plt.show()"
   ]
  },
  {
   "cell_type": "markdown",
   "metadata": {
    "id": "PlZjmp-IUHBl"
   },
   "source": [
    "\n",
    "\n",
    "*   Customers with higher education purchase the TM798\n",
    "*   Lower income customers purchase the TM195 or TM498 equally\n",
    "\n"
   ]
  },
  {
   "cell_type": "markdown",
   "metadata": {
    "id": "s8rUPbqvF7fs"
   },
   "source": [
    "### Age"
   ]
  },
  {
   "cell_type": "code",
   "execution_count": null,
   "metadata": {
    "colab": {
     "base_uri": "https://localhost:8080/",
     "height": 357
    },
    "executionInfo": {
     "elapsed": 265,
     "status": "ok",
     "timestamp": 1662947832494,
     "user": {
      "displayName": "Charlcye Mitchell",
      "userId": "15032698974823626783"
     },
     "user_tz": 300
    },
    "id": "8qwahBxE_Qa3",
    "outputId": "94cc35e5-b741-4375-fa12-838ea70f9f8d"
   },
   "outputs": [
    {
     "data": {
      "image/png": "[encoded data removed]",
      "text/plain": [
       "<Figure size 720x360 with 1 Axes>"
      ]
     },
     "metadata": {
      "needs_background": "light"
     },
     "output_type": "display_data"
    }
   ],
   "source": [
    "# What is the customer's age range for each product?\n",
    "plt.figure(figsize=(10,5))\n",
    "sns.boxplot(data=df,x='Product',y='Age',showfliers=True) # turning on outliers\n",
    "plt.xticks(rotation=90)\n",
    "plt.show()"
   ]
  },
  {
   "cell_type": "markdown",
   "metadata": {
    "id": "L3ixa_zFUcw5"
   },
   "source": [
    "\n",
    "\n",
    "*   The youngest customers purchase the TM195.\n",
    "*   The most interested demographic is in their mid 20's to mid 30's.\n",
    "\n"
   ]
  },
  {
   "cell_type": "markdown",
   "metadata": {
    "id": "8-sEjxWPF9zL"
   },
   "source": [
    "### Intended Usage (Days Per Week)"
   ]
  },
  {
   "cell_type": "code",
   "execution_count": null,
   "metadata": {
    "colab": {
     "base_uri": "https://localhost:8080/",
     "height": 357
    },
    "executionInfo": {
     "elapsed": 273,
     "status": "ok",
     "timestamp": 1662947847345,
     "user": {
      "displayName": "Charlcye Mitchell",
      "userId": "15032698974823626783"
     },
     "user_tz": 300
    },
    "id": "qMFVDi0K_sOw",
    "outputId": "ddab30bd-a98c-40e4-d920-4b37dca4563b"
   },
   "outputs": [
    {
     "data": {
      "image/png": "[encoded data removed]",
      "text/plain": [
       "<Figure size 720x360 with 1 Axes>"
      ]
     },
     "metadata": {
      "needs_background": "light"
     },
     "output_type": "display_data"
    }
   ],
   "source": [
    "# What is the customer's intended amount of usage (days per week) for each product?\n",
    "plt.figure(figsize=(10,5))\n",
    "sns.boxplot(data=df,x='Product',y='Usage',showfliers=True) # turning on outliers\n",
    "plt.xticks(rotation=90)\n",
    "plt.show()"
   ]
  },
  {
   "cell_type": "markdown",
   "metadata": {
    "id": "7Sg3ZbkCU4h2"
   },
   "source": [
    "\n",
    "\n",
    "*   The TM195 seems to appeal to all types of runner frequencies.  Maybe this is a good, affordable, generic piece of equipment.\n",
    "*   The TM498 appeals mostly to people who only want to run a few days per week. Maybe this is a good model with some training features for beginners.\n",
    "*   The TM798 appeals to people who intend to run many days per week. Maybe this equipment contains some features valuable to consistent runners.\n"
   ]
  },
  {
   "cell_type": "markdown",
   "metadata": {
    "id": "q2z6LOXRGDcH"
   },
   "source": [
    "### Fitness Level"
   ]
  },
  {
   "cell_type": "code",
   "execution_count": null,
   "metadata": {
    "colab": {
     "base_uri": "https://localhost:8080/",
     "height": 369
    },
    "executionInfo": {
     "elapsed": 279,
     "status": "ok",
     "timestamp": 1662942365154,
     "user": {
      "displayName": "Charlcye Mitchell",
      "userId": "15032698974823626783"
     },
     "user_tz": 300
    },
    "id": "fbG8p8nX_2h_",
    "outputId": "51f52765-2fc6-454d-8d2e-35f423dfa765"
   },
   "outputs": [
    {
     "data": {
      "image/png": "[encoded data removed]",
      "text/plain": [
       "<Figure size 1080x360 with 3 Axes>"
      ]
     },
     "metadata": {
      "needs_background": "light"
     },
     "output_type": "display_data"
    }
   ],
   "source": [
    "# What is the customer's self-disclosed fitness range for each product?\n",
    "sns.catplot(x='Fitness',\n",
    "            col='Product', \n",
    "            data=df)\n",
    "plt.show()"
   ]
  },
  {
   "cell_type": "markdown",
   "metadata": {
    "id": "RGkvPZQPGF3b"
   },
   "source": [
    "### Intended Mileage"
   ]
  },
  {
   "cell_type": "code",
   "execution_count": null,
   "metadata": {
    "colab": {
     "base_uri": "https://localhost:8080/",
     "height": 357
    },
    "executionInfo": {
     "elapsed": 292,
     "status": "ok",
     "timestamp": 1662947872344,
     "user": {
      "displayName": "Charlcye Mitchell",
      "userId": "15032698974823626783"
     },
     "user_tz": 300
    },
    "id": "zOesdNNcASRO",
    "outputId": "5f409116-3bfb-40a2-9d5d-afa45593cc75"
   },
   "outputs": [
    {
     "data": {
      "image/png": "[encoded data removed]",
      "text/plain": [
       "<Figure size 720x360 with 1 Axes>"
      ]
     },
     "metadata": {
      "needs_background": "light"
     },
     "output_type": "display_data"
    }
   ],
   "source": [
    "# What is the customer's intended mileage range for each product?\n",
    "plt.figure(figsize=(10,5))\n",
    "sns.boxplot(data=df,x='Product',y='Miles',showfliers=True) # turning on outliers\n",
    "plt.xticks(rotation=90)\n",
    "plt.show()"
   ]
  },
  {
   "cell_type": "markdown",
   "metadata": {
    "id": "5DLfxlQSIVzE"
   },
   "source": [
    "# **Customer Profiles**"
   ]
  },
  {
   "cell_type": "markdown",
   "metadata": {
    "id": "LZTu7xsqIdOW"
   },
   "source": [
    "## **TM195 Existing Customer Profile**"
   ]
  },
  {
   "cell_type": "markdown",
   "metadata": {
    "id": "tBsE-assIj3C"
   },
   "source": [
    "- *TM195 customers range from 18-50 years old*\n",
    "- *Education ranges from 12-18 years*\n",
    "- *Customers wish to use the product from 2-5x per week*\n",
    "- *Customer fitness ranges from very unfit to very fit*\n",
    "- *Customer income ranges from 29,562 to 68,220 - the lower end of the pay range for Cardio Good Fitness customers*\n",
    "- *Customers expect to run from 38-188 miles*\n",
    "- *Both genders are equally represented*\n",
    "- *Like all CGF products, the customer profile is more Partnered than Single*"
   ]
  },
  {
   "cell_type": "markdown",
   "metadata": {
    "id": "CrzgMiDkIlmU"
   },
   "source": [
    "## **TM498 Existing Customer Profile**"
   ]
  },
  {
   "cell_type": "markdown",
   "metadata": {
    "id": "RFPV23fhIpB2"
   },
   "source": [
    "- *Customers range from 19-48 years old*\n",
    "- *Education ranges from 12-18 years*\n",
    "- *Customers wish to use the product from 2-5x per week*\n",
    "- *Customer fitness ranges from very unfit to somewhat fit*\n",
    "- *Customer income ranges from 31,836 to 67,083 - low-mid range for CGF customers*\n",
    "- *Customers expect to run from 21-212 miles*\n",
    "- *Both genders are almost equally represented, with slightly more male customers*\n",
    "- *Like all CGF products, the customer profile is more Partnered than Single*"
   ]
  },
  {
   "cell_type": "markdown",
   "metadata": {
    "id": "Av_VqzJ7Iq3H"
   },
   "source": [
    "## **TM798 Existing Customer Profile**"
   ]
  },
  {
   "cell_type": "markdown",
   "metadata": {
    "id": "l_3KE6rXItx7"
   },
   "source": [
    "- *Customers range from 22-48 years old*\n",
    "- *Education ranges from 14-21 years*\n",
    "- *Customers wish to use the product from 3-7x per week*\n",
    "- *Customer fitness ranges from fit to very fit*\n",
    "- *Customer income ranges from 48,556 to 104,581 - high end range of CGF customer incomes*\n",
    "- *Customers expect to run from 80-360 miles (there is an outlier here, as the mean is 166 and the median is 160)*\n",
    "- *There are signifigantly more male customers than female customers using the TM798*\n",
    "- *Like all CGF products, the customer profile is more Partnered than Single*"
   ]
  },
  {
   "cell_type": "markdown",
   "metadata": {
    "id": "Lr3YKsrHI2IX"
   },
   "source": [
    "# **Actionable Insights and Recommendations for Targeting New Customers**"
   ]
  },
  {
   "cell_type": "markdown",
   "metadata": {
    "id": "fLCThreiI-Nr"
   },
   "source": [
    "#### **Insights**"
   ]
  },
  {
   "cell_type": "markdown",
   "metadata": {
    "id": "bzSek8ThSOLi"
   },
   "source": [
    "We analyzed a dataset of 180 customers who purchased 1 of 3 products from the Cardio Good Fitness store.\n",
    "The main feature of interest here is the demographics of the customers. \n",
    "By understanding more about which products different demographics are interested in, we can improve our targeted messaging to those demographics.\n",
    "\n",
    "We have been able to conclude that:  \n",
    "\n",
    "1.   Higher income customers purchase the TM798 while lower income customers purchase the TM195.\n",
    "2.   Customers with higher education purchase the TM798 while lower income customers purchase the TM195 or TM498 equally\n",
    "3.   The youngest customers purchase the TM195.\n",
    "4.   The most interested demographic is in their mid 20's to mid 30's.\n",
    "5.    The TM195 appeals to all types of runner frequencies. The TM498 appeals mostly to people who only want to run a few days per week. The TM798 appeals to people who intend to run many days per week."
   ]
  },
  {
   "cell_type": "markdown",
   "metadata": {
    "id": "uP3t8qK5SOG-"
   },
   "source": [
    "#### **Recommendations to business**"
   ]
  },
  {
   "cell_type": "markdown",
   "metadata": {
    "id": "SKoWQN1GSOCe"
   },
   "source": [
    "1. Invest in targeted advertising for the TM195 to value-market customers between 25-35 and young adults.\n",
    "2. Invest in targeted advertising for the TM498 to people aged 25-35 who are beginning their fitness journeys.\n",
    "3. Invest in targeted advertising for the TM798 to wealthy and educated demographics (especially males), and to consistent members of the running community aged 25-30.\n",
    "\n"
   ]
  }
 ],
 "metadata": {
  "colab": {
   "authorship_tag": "ABX9TyMZjVquorkwx75uaWwy7OL8",
   "collapsed_sections": [],
   "provenance": []
  },
  "kernelspec": {
   "display_name": "Python 3 (ipykernel)",
   "language": "python",
   "name": "python3"
  },
  "language_info": {
   "codemirror_mode": {
    "name": "ipython",
    "version": 3
   },
   "file_extension": ".py",
   "mimetype": "text/x-python",
   "name": "python",
   "nbconvert_exporter": "python",
   "pygments_lexer": "ipython3",
   "version": "3.9.12"
  }
 },
 "nbformat": 4,
 "nbformat_minor": 1
}
